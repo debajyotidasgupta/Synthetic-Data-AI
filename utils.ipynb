{
 "cells": [
  {
   "cell_type": "code",
   "execution_count": 1,
   "id": "40e53727-d17d-4dc1-b671-c712cb6fda35",
   "metadata": {},
   "outputs": [],
   "source": [
    "import os\n",
    "from PIL import Image"
   ]
  },
  {
   "cell_type": "code",
   "execution_count": 2,
   "id": "8b3085ea-deb2-4085-a146-d5917cbf3576",
   "metadata": {},
   "outputs": [],
   "source": [
    "image_paths = []\n",
    "image_size = (224, 224)\n",
    "\n",
    "for dir, _, files in os.walk('./data/'):\n",
    "    for file in files:\n",
    "        path = os.path.join(dir, file)\n",
    "        if path.endswith('.png') or path.endswith('.jpeg'):\n",
    "            image_paths.append(path)"
   ]
  },
  {
   "cell_type": "code",
   "execution_count": null,
   "id": "b89d1b7b-be2f-4a18-ac66-f49d9a81657f",
   "metadata": {},
   "outputs": [
    {
     "name": "stderr",
     "output_type": "stream",
     "text": [
      "/tmp/ipykernel_2156/78406964.py:1: TqdmExperimentalWarning: Using `tqdm.autonotebook.tqdm` in notebook mode. Use `tqdm.tqdm` instead to force console mode (e.g. in jupyter console)\n",
      "  from tqdm.autonotebook import tqdm\n"
     ]
    },
    {
     "data": {
      "application/vnd.jupyter.widget-view+json": {
       "model_id": "0b194f09ba4e4cc088c32e62fa9a39c9",
       "version_major": 2,
       "version_minor": 0
      },
      "text/plain": [
       "  0%|          | 0/2878 [00:00<?, ?it/s]"
      ]
     },
     "metadata": {},
     "output_type": "display_data"
    }
   ],
   "source": [
    "from tqdm.autonotebook import tqdm\n",
    "\n",
    "for path in tqdm(image_paths):\n",
    "    Image.open(path).resize(image_size).save(path)"
   ]
  },
  {
   "cell_type": "code",
   "execution_count": null,
   "id": "9c87b859-4fbf-4d9c-b3b7-1b875f40a3b8",
   "metadata": {},
   "outputs": [],
   "source": []
  }
 ],
 "metadata": {
  "kernelspec": {
   "display_name": "Python 3 (ipykernel)",
   "language": "python",
   "name": "python3"
  },
  "language_info": {
   "codemirror_mode": {
    "name": "ipython",
    "version": 3
   },
   "file_extension": ".py",
   "mimetype": "text/x-python",
   "name": "python",
   "nbconvert_exporter": "python",
   "pygments_lexer": "ipython3",
   "version": "3.10.13"
  }
 },
 "nbformat": 4,
 "nbformat_minor": 5
}
