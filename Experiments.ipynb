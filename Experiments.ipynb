{
 "cells": [
  {
   "cell_type": "markdown",
   "id": "1a50f490-74aa-46fd-8874-5224a4b0a912",
   "metadata": {},
   "source": [
    "# Importing Necessary Libraries"
   ]
  },
  {
   "cell_type": "code",
   "execution_count": 1,
   "id": "af785180-4fed-49a4-b3ad-c795f4480ac1",
   "metadata": {},
   "outputs": [],
   "source": [
    "import random\n",
    "import copy\n",
    "import json, os\n",
    "from collections import Counter\n",
    "from PIL import Image\n",
    "from tqdm.notebook import tqdm, trange\n",
    "\n",
    "import clip\n",
    "import torch\n",
    "import torch.nn as nn\n",
    "import torch.nn.functional as F\n",
    "import numpy as np\n",
    "from torch.utils.data import DataLoader\n",
    "from torchvision import transforms\n",
    "from datasets import Dataset, load_dataset, load_from_disk, concatenate_datasets\n",
    "from sklearn.metrics import classification_report, top_k_accuracy_score\n",
    "\n",
    "from transformers import pipeline\n",
    "from transformers import CLIPProcessor, CLIPModel, CLIPImageProcessor, CLIPTokenizer\n",
    "from prompt import le_prompt, prompt, negative_prompt, description\n",
    "\n",
    "import warnings\n",
    "warnings.filterwarnings(\"ignore\")\n",
    "\n",
    "random.seed(24)"
   ]
  },
  {
   "cell_type": "markdown",
   "id": "8a7a9a67-268d-469f-950a-b24d3e15e0a8",
   "metadata": {
    "jp-MarkdownHeadingCollapsed": true
   },
   "source": [
    "# Generate Language Detailed Prompts"
   ]
  },
  {
   "cell_type": "code",
   "execution_count": null,
   "id": "6d8c1ad6-7575-4217-8634-aa26a60b5a1e",
   "metadata": {},
   "outputs": [],
   "source": [
    "messages = [\n",
    "    {\"role\": \"system\", \"content\": \"You are a professional botanist with speciality in describing and picturising rare plants in great detail\"},\n",
    "    {\"role\": \"user\", \"content\": \"\"\"\n",
    "    Rephrase the following description of {} plant. Remove the camera details and \n",
    "    maintain the features of the plant. Add more detailed features if required to \n",
    "    describe the flower. Just provide the rephrased description of the plant in 1 \n",
    "    paragraph.\n",
    "\n",
    "    Description:\n",
    "    {}\"\"\"},\n",
    "]\n",
    "\n",
    "pipe = pipeline(\"text-generation\", model=\"TinyLlama/TinyLlama-1.1B-Chat-v1.0\", torch_dtype=torch.bfloat16, device_map=\"auto\")\n",
    "\n",
    "tiny_prompts = []\n",
    "\n",
    "for flower in prompt:\n",
    "    for i in range(320):\n",
    "        tiny_prompt = copy.deepcopy(messages)\n",
    "        tiny_prompt[1]['content'] = tiny_prompt[1]['content'].format(flower, prompt[flower])\n",
    "        tiny_prompts.append(tiny_prompt)\n",
    "\n",
    "outputs = pipe(tiny_prompts, max_new_tokens=256, do_sample=True, temperature=0.7, top_k=50, top_p=0.95)"
   ]
  },
  {
   "cell_type": "markdown",
   "id": "ea00bfeb-268f-4c3b-87ca-e36257d5b1fe",
   "metadata": {
    "jp-MarkdownHeadingCollapsed": true
   },
   "source": [
    "# Generate the label mapping to indexes and descriptions"
   ]
  },
  {
   "cell_type": "code",
   "execution_count": 2,
   "id": "66f060ed-568a-43d3-98fd-ae055c14c0e4",
   "metadata": {},
   "outputs": [
    {
     "name": "stdout",
     "output_type": "stream",
     "text": [
      "['Rufflesia-Arnoldii', 'Encephalartos-Woodii', 'Amorphophallus-Titanum', 'Ghost-Orchid', 'Dracaena-Cinnabari']\n"
     ]
    }
   ],
   "source": [
    "# Label Maps\n",
    "l2i = {}\n",
    "i2l = []\n",
    "\n",
    "# Descriptions\n",
    "desc = []\n",
    "\n",
    "for i, plant in enumerate(prompt):\n",
    "    l2i[plant] = i\n",
    "    i2l.append(plant)\n",
    "    desc.append(description[plant])\n",
    "\n",
    "print(i2l)"
   ]
  },
  {
   "cell_type": "markdown",
   "id": "7bd6c826-bc44-4284-8c58-e4a59e997149",
   "metadata": {
    "jp-MarkdownHeadingCollapsed": true
   },
   "source": [
    "# Load the dataset"
   ]
  },
  {
   "cell_type": "code",
   "execution_count": 40,
   "id": "8f884949-7083-4ee3-9792-d66dc9ca424e",
   "metadata": {},
   "outputs": [
    {
     "data": {
      "application/vnd.jupyter.widget-view+json": {
       "model_id": "400740ef85774eae9fcd767c92c38c5a",
       "version_major": 2,
       "version_minor": 0
      },
      "text/plain": [
       "Resolving data files:   0%|          | 0/25 [00:00<?, ?it/s]"
      ]
     },
     "metadata": {},
     "output_type": "display_data"
    },
    {
     "data": {
      "application/vnd.jupyter.widget-view+json": {
       "model_id": "b27532e6ab1d492899e004b88373d2bf",
       "version_major": 2,
       "version_minor": 0
      },
      "text/plain": [
       "Resolving data files:   0%|          | 0/250 [00:00<?, ?it/s]"
      ]
     },
     "metadata": {},
     "output_type": "display_data"
    },
    {
     "data": {
      "application/vnd.jupyter.widget-view+json": {
       "model_id": "34fa006ea3b243748fe7164fac1f9aef",
       "version_major": 2,
       "version_minor": 0
      },
      "text/plain": [
       "Resolving data files:   0%|          | 0/1600 [00:00<?, ?it/s]"
      ]
     },
     "metadata": {},
     "output_type": "display_data"
    },
    {
     "data": {
      "application/vnd.jupyter.widget-view+json": {
       "model_id": "b9428ebe2cb04093bea02703c8677a00",
       "version_major": 2,
       "version_minor": 0
      },
      "text/plain": [
       "Resolving data files:   0%|          | 0/1000 [00:00<?, ?it/s]"
      ]
     },
     "metadata": {},
     "output_type": "display_data"
    }
   ],
   "source": [
    "ds = load_dataset(\"imagefolder\", data_dir=\"./data/images\")\n",
    "syn = load_dataset(\"imagefolder\", data_dir=\"./data/synthetic/\")\n",
    "fsl = load_dataset(\"imagefolder\", data_dir=\"./data/synthetic-few-shot/\")"
   ]
  },
  {
   "cell_type": "markdown",
   "id": "a773a4b3-4b78-475b-aac7-51ecb5b257f1",
   "metadata": {
    "jp-MarkdownHeadingCollapsed": true
   },
   "source": [
    "# Apply processing over the data"
   ]
  },
  {
   "cell_type": "code",
   "execution_count": 41,
   "id": "eaab05de-ed1d-45f9-bec3-78c71a8d2f8e",
   "metadata": {},
   "outputs": [],
   "source": [
    "image_size = (224, 224)\n",
    "\n",
    "ds = ds.map(lambda batch: {'pixel_values': transforms.ToTensor()(batch['image'].resize(image_size))}, batch_size=32)\n",
    "syn = syn.map(lambda batch: {'pixel_values': transforms.ToTensor()(batch['image'].resize(image_size))}, batch_size=32)\n",
    "fsl = fsl.map(lambda batch: {'pixel_values': transforms.ToTensor()(batch['image'].resize(image_size))}, batch_size=32)\n",
    "\n",
    "ds = ds.remove_columns(['image'])\n",
    "syn = syn.remove_columns(['image'])\n",
    "fsl = fsl.remove_columns(['image'])\n",
    "\n",
    "ds = ds.align_labels_with_mapping(l2i, \"label\")\n",
    "syn = syn.align_labels_with_mapping(l2i, \"label\")\n",
    "fsl = fsl.align_labels_with_mapping(l2i, \"label\")\n",
    "\n",
    "ds = ds.with_format('torch')\n",
    "syn = syn.with_format('torch')\n",
    "fsl = fsl.with_format('torch')"
   ]
  },
  {
   "cell_type": "markdown",
   "id": "c0b5e77a-9a8b-41d7-95a6-47cee7e613d8",
   "metadata": {
    "jp-MarkdownHeadingCollapsed": true
   },
   "source": [
    "# Load the CLIP model and utilities"
   ]
  },
  {
   "cell_type": "code",
   "execution_count": 5,
   "id": "1df988f3-3557-40ec-a391-784b7cb65412",
   "metadata": {},
   "outputs": [],
   "source": [
    "model_name = 'openai/clip-vit-large-patch14'\n",
    "\n",
    "# model = CLIPModel.from_pretrained(model_name, device_map='auto')\n",
    "processor = CLIPProcessor.from_pretrained(model_name)"
   ]
  },
  {
   "cell_type": "markdown",
   "id": "b12c7b6a-43ae-450c-b741-5c0f579306df",
   "metadata": {
    "jp-MarkdownHeadingCollapsed": true
   },
   "source": [
    "# Utility for evaluating the model"
   ]
  },
  {
   "cell_type": "code",
   "execution_count": 6,
   "id": "c1ccdb19-700a-47d7-8e40-32f417cc51f1",
   "metadata": {},
   "outputs": [],
   "source": [
    "def eval(eval_model, cls):\n",
    "    eval_model.eval()\n",
    "    \n",
    "    test_labels = []\n",
    "    test_probs = []\n",
    "    \n",
    "    test_loader = torch.utils.data.DataLoader(ds['test'], batch_size=32)\n",
    "    for batch in tqdm(test_loader, total=len(test_loader)):\n",
    "        with torch.no_grad():\n",
    "            inputs = processor(text=cls, images=batch['pixel_values'], return_tensors=\"pt\", padding=True)\n",
    "            inputs = {k: v.to('cuda') for k, v in inputs.items()}\n",
    "            \n",
    "            outputs = eval_model(**inputs)\n",
    "            logits_per_image = outputs.logits_per_image\n",
    "            probs = logits_per_image.softmax(dim=1)\n",
    "        \n",
    "            del inputs\n",
    "            torch.cuda.empty_cache()\n",
    "        \n",
    "            test_labels.append(batch['label'].cpu())\n",
    "            test_probs.append(probs.cpu())\n",
    "    \n",
    "    test_labels = torch.cat(test_labels)\n",
    "    test_probs = torch.cat(test_probs)\n",
    "\n",
    "    return test_labels, test_probs"
   ]
  },
  {
   "cell_type": "markdown",
   "id": "71f746dc-cbe5-474a-b942-d996a0c26cf1",
   "metadata": {
    "jp-MarkdownHeadingCollapsed": true
   },
   "source": [
    "## Evaluate accuray with name only labels"
   ]
  },
  {
   "cell_type": "code",
   "execution_count": 7,
   "id": "d449d9e1-f987-403f-a88c-4c5cafa33c67",
   "metadata": {},
   "outputs": [
    {
     "data": {
      "application/vnd.jupyter.widget-view+json": {
       "model_id": "2597c0c2ee2948cea5d496b8c0be1d06",
       "version_major": 2,
       "version_minor": 0
      },
      "text/plain": [
       "  0%|          | 0/8 [00:00<?, ?it/s]"
      ]
     },
     "metadata": {},
     "output_type": "display_data"
    },
    {
     "name": "stderr",
     "output_type": "stream",
     "text": [
      "It looks like you are trying to rescale already rescaled images. If the input images have pixel values between 0 and 1, set `do_rescale=False` to avoid rescaling them again.\n"
     ]
    },
    {
     "name": "stdout",
     "output_type": "stream",
     "text": [
      "              precision    recall  f1-score   support\n",
      "\n",
      "           0       0.18      0.54      0.27        50\n",
      "           1       0.27      0.08      0.12        50\n",
      "           2       0.27      0.32      0.29        50\n",
      "           3       0.58      0.28      0.38        50\n",
      "           4       0.00      0.00      0.00        50\n",
      "\n",
      "    accuracy                           0.24       250\n",
      "   macro avg       0.26      0.24      0.21       250\n",
      "weighted avg       0.26      0.24      0.21       250\n",
      "\n"
     ]
    }
   ],
   "source": [
    "y_true, y_pred = eval(model, [f'This is image of the {plant} plant' for plant in i2l])\n",
    "print(classification_report(y_true, y_pred.argmax(dim=1, keepdim=True)))"
   ]
  },
  {
   "cell_type": "markdown",
   "id": "b89be9e6-98af-483c-925d-db9a87babd24",
   "metadata": {
    "jp-MarkdownHeadingCollapsed": true
   },
   "source": [
    "## Evaluate accuray with detailed labels"
   ]
  },
  {
   "cell_type": "code",
   "execution_count": 8,
   "id": "1eec334f-a0a8-4c06-b164-7309932a6c8c",
   "metadata": {},
   "outputs": [
    {
     "data": {
      "application/vnd.jupyter.widget-view+json": {
       "model_id": "0065600e8b394e5095c5b5b407f50244",
       "version_major": 2,
       "version_minor": 0
      },
      "text/plain": [
       "  0%|          | 0/8 [00:00<?, ?it/s]"
      ]
     },
     "metadata": {},
     "output_type": "display_data"
    },
    {
     "name": "stdout",
     "output_type": "stream",
     "text": [
      "              precision    recall  f1-score   support\n",
      "\n",
      "           0       0.20      1.00      0.34        50\n",
      "           1       0.00      0.00      0.00        50\n",
      "           2       0.00      0.00      0.00        50\n",
      "           3       1.00      0.04      0.08        50\n",
      "           4       0.00      0.00      0.00        50\n",
      "\n",
      "    accuracy                           0.21       250\n",
      "   macro avg       0.24      0.21      0.08       250\n",
      "weighted avg       0.24      0.21      0.08       250\n",
      "\n"
     ]
    }
   ],
   "source": [
    "y_true, y_pred = eval(model, desc)\n",
    "print(classification_report(y_true, y_pred.argmax(dim=1, keepdim=True)))"
   ]
  },
  {
   "cell_type": "markdown",
   "id": "45103601-7435-4e38-bd97-155bade32232",
   "metadata": {
    "jp-MarkdownHeadingCollapsed": true
   },
   "source": [
    "# Train CLIP Model with synthetic data"
   ]
  },
  {
   "cell_type": "code",
   "execution_count": 7,
   "id": "ae24b781-6304-4fac-82b9-791c14b148e1",
   "metadata": {},
   "outputs": [],
   "source": [
    "def compute_loss_and_accuracy(outputs, labels):\n",
    "    logits = outputs.logits_per_image  # Shape: (batch_size, num_labels)\n",
    "    labels = labels.to(logits.device)\n",
    "    \n",
    "    # Compute the cross-entropy loss\n",
    "    loss = F.cross_entropy(logits, labels)\n",
    "    \n",
    "    # Compute the accuracy\n",
    "    _, predicted_labels = torch.max(logits, dim=1)\n",
    "    accuracy = torch.sum(predicted_labels == labels) / labels.size(0)\n",
    "    \n",
    "    return loss, accuracy"
   ]
  },
  {
   "cell_type": "code",
   "execution_count": 8,
   "id": "306f4206-e73d-4fca-b207-da5a036fb6aa",
   "metadata": {},
   "outputs": [],
   "source": [
    "def train_clip_model(\n",
    "    model, \n",
    "    processor, \n",
    "    train_dataset, \n",
    "    prompts, \n",
    "    num_epochs=10, \n",
    "    batch_size=32, \n",
    "    learning_rate=5e-6, \n",
    "    device='cuda', \n",
    "    warmup_steps=100, \n",
    "    accumulation_steps=4, \n",
    "    max_grad_norm=1.0\n",
    "):\n",
    "    train_dataloader = DataLoader(train_dataset, batch_size=batch_size, shuffle=True)\n",
    "    optimizer = torch.optim.Adam(model.parameters(), lr=learning_rate, weight_decay=0.01)\n",
    "    scheduler = torch.optim.lr_scheduler.CosineAnnealingLR(optimizer, T_max=num_epochs)\n",
    "    model.to(device)\n",
    "\n",
    "    progress_bar = tqdm(total=num_epochs * len(train_dataloader), unit='batch')\n",
    "    global_step = 0\n",
    "    \n",
    "    for epoch in range(num_epochs):\n",
    "        model.train()\n",
    "        epoch_loss = 0.0\n",
    "        epoch_accuracy = 0.0\n",
    "        num_batch = len(train_dataloader)\n",
    "\n",
    "        for step, batch in enumerate(train_dataloader):\n",
    "            if isinstance(prompts, dict):\n",
    "                cls = [random.sample(prompts[plant], k=1)[0] for plant in i2l]\n",
    "            else:\n",
    "                cls = prompts\n",
    "            \n",
    "            inputs = processor(\n",
    "                images=batch[\"pixel_values\"], \n",
    "                text=cls, \n",
    "                return_tensors=\"pt\", \n",
    "                padding=True,\n",
    "                max_length=77,\n",
    "                truncation=True,\n",
    "            )\n",
    "            inputs = {k: v.to(device) for k, v in inputs.items()}\n",
    "\n",
    "            outputs = model(**inputs)\n",
    "            loss, accuracy = compute_loss_and_accuracy(outputs, batch['label'])\n",
    "\n",
    "            loss = loss / accumulation_steps\n",
    "            loss.backward()\n",
    "\n",
    "            if (step + 1) % accumulation_steps == 0:\n",
    "                # Gradient Clipping\n",
    "                torch.nn.utils.clip_grad_norm_(model.parameters(), max_norm=max_grad_norm)\n",
    "                \n",
    "                optimizer.step()\n",
    "                optimizer.zero_grad()\n",
    "\n",
    "            epoch_loss += loss.item()\n",
    "            epoch_accuracy += accuracy.item()\n",
    "\n",
    "            progress_bar.set_postfix(epoch=(epoch+1)+(step/num_batch), loss=loss.item(), accuracy=accuracy.item())\n",
    "            progress_bar.update(1)\n",
    "\n",
    "            global_step += 1\n",
    "\n",
    "            # Warmup Steps\n",
    "            if global_step < warmup_steps:\n",
    "                warmup_percent = global_step / warmup_steps\n",
    "                curr_lr = learning_rate * warmup_percent\n",
    "                optimizer.param_groups[0]['lr'] = curr_lr\n",
    "\n",
    "        scheduler.step()\n",
    "\n",
    "        epoch_loss /= len(train_dataloader)\n",
    "        epoch_accuracy /= len(train_dataloader)\n",
    "\n",
    "        # Print epoch summary\n",
    "        print(f\"Epoch {epoch+1}/{num_epochs} - Loss: {epoch_loss:.4f}, Accuracy: {epoch_accuracy:.4f}\")\n",
    "\n",
    "    progress_bar.close()\n",
    "    return model\n",
    "\n",
    "def freeze_layers(model, num_frozen_layers):\n",
    "    for i, param in enumerate(model.parameters()):\n",
    "        if i < num_frozen_layers:\n",
    "            param.requires_grad = False\n",
    "        else:\n",
    "            param.requires_grad = True"
   ]
  },
  {
   "cell_type": "markdown",
   "id": "caf08672-496e-4295-99e6-8ff40875348d",
   "metadata": {
    "jp-MarkdownHeadingCollapsed": true
   },
   "source": [
    "### Freeze Layers for stable learning convergence"
   ]
  },
  {
   "cell_type": "code",
   "execution_count": 39,
   "id": "9833018a-3838-4b3e-af59-a35b3ac15021",
   "metadata": {},
   "outputs": [],
   "source": [
    "# Load the pre-trained CLIP model\n",
    "model = CLIPModel.from_pretrained(\"openai/clip-vit-base-patch32\")\n",
    "\n",
    "# Freeze the first few layers of the model\n",
    "num_frozen_layers = 100\n",
    "freeze_layers(model, num_frozen_layers)"
   ]
  },
  {
   "cell_type": "code",
   "execution_count": 12,
   "id": "cb3f7da4-f1c5-4056-b783-1a92304fd9e7",
   "metadata": {},
   "outputs": [
    {
     "data": {
      "application/vnd.jupyter.widget-view+json": {
       "model_id": "1ff1b9cb5b4b4f7d9c3b971e930287c5",
       "version_major": 2,
       "version_minor": 0
      },
      "text/plain": [
       "  0%|          | 0/1000 [00:00<?, ?batch/s]"
      ]
     },
     "metadata": {},
     "output_type": "display_data"
    },
    {
     "name": "stdout",
     "output_type": "stream",
     "text": [
      "Epoch 1/5 - Loss: 0.3641, Accuracy: 0.4950\n",
      "Epoch 2/5 - Loss: 0.0536, Accuracy: 0.9231\n",
      "Epoch 3/5 - Loss: 0.0361, Accuracy: 0.9513\n",
      "Epoch 4/5 - Loss: 0.0265, Accuracy: 0.9688\n",
      "Epoch 5/5 - Loss: 0.0025, Accuracy: 0.9988\n"
     ]
    }
   ],
   "source": [
    "num_epochs = 5\n",
    "batch_size = 8\n",
    "learning_rate = 1e-5\n",
    "device = 'cuda'\n",
    "\n",
    "# Train the model\n",
    "gen_prompts = json.load(open('./generated_text.json', 'r'))\n",
    "fine_tuned_model = train_clip_model(model, processor, syn['train'], gen_prompts, num_epochs, batch_size, learning_rate, device)\n",
    "\n",
    "# Save the fine-tuned model\n",
    "fine_tuned_model.save_pretrained(\"./models/zsl-desc-tuned\")"
   ]
  },
  {
   "cell_type": "markdown",
   "id": "8dce8abc-25bc-4462-a09f-58229b4d13b4",
   "metadata": {
    "jp-MarkdownHeadingCollapsed": true
   },
   "source": [
    "## Evaluate accuray with name only labels"
   ]
  },
  {
   "cell_type": "code",
   "execution_count": 16,
   "id": "a086b443-0adb-4705-a198-f50f3b324b19",
   "metadata": {},
   "outputs": [
    {
     "data": {
      "application/vnd.jupyter.widget-view+json": {
       "model_id": "1f161871bfa7446d8d3521c49d19d416",
       "version_major": 2,
       "version_minor": 0
      },
      "text/plain": [
       "  0%|          | 0/8 [00:00<?, ?it/s]"
      ]
     },
     "metadata": {},
     "output_type": "display_data"
    },
    {
     "name": "stdout",
     "output_type": "stream",
     "text": [
      "              precision    recall  f1-score   support\n",
      "\n",
      "           0       0.89      0.50      0.64        50\n",
      "           1       1.00      0.16      0.28        50\n",
      "           2       0.35      0.24      0.29        50\n",
      "           3       0.34      0.98      0.51        50\n",
      "           4       0.83      0.60      0.70        50\n",
      "\n",
      "    accuracy                           0.50       250\n",
      "   macro avg       0.68      0.50      0.48       250\n",
      "weighted avg       0.68      0.50      0.48       250\n",
      "\n"
     ]
    }
   ],
   "source": [
    "y_true, y_pred = eval(fine_tuned_model, i2l)\n",
    "print(classification_report(y_true, y_pred.argmax(dim=1, keepdim=True)))"
   ]
  },
  {
   "cell_type": "markdown",
   "id": "3edf8361-7c24-4a17-b551-85d8c650885c",
   "metadata": {
    "jp-MarkdownHeadingCollapsed": true
   },
   "source": [
    "## Evaluate accuray with detailed description of labels"
   ]
  },
  {
   "cell_type": "code",
   "execution_count": 15,
   "id": "6256150c-bdd3-4991-b2a1-f2eacba81fda",
   "metadata": {},
   "outputs": [
    {
     "data": {
      "application/vnd.jupyter.widget-view+json": {
       "model_id": "67ba06694f3e402aabb5505726193e03",
       "version_major": 2,
       "version_minor": 0
      },
      "text/plain": [
       "  0%|          | 0/8 [00:00<?, ?it/s]"
      ]
     },
     "metadata": {},
     "output_type": "display_data"
    },
    {
     "name": "stdout",
     "output_type": "stream",
     "text": [
      "              precision    recall  f1-score   support\n",
      "\n",
      "           0       0.91      0.58      0.71        50\n",
      "           1       0.85      0.34      0.49        50\n",
      "           2       0.50      0.24      0.32        50\n",
      "           3       0.39      0.98      0.56        50\n",
      "           4       0.73      0.72      0.73        50\n",
      "\n",
      "    accuracy                           0.57       250\n",
      "   macro avg       0.68      0.57      0.56       250\n",
      "weighted avg       0.68      0.57      0.56       250\n",
      "\n"
     ]
    }
   ],
   "source": [
    "y_true, y_pred = eval(fine_tuned_model, desc)\n",
    "print(classification_report(y_true, y_pred.argmax(dim=1, keepdim=True)))"
   ]
  },
  {
   "cell_type": "code",
   "execution_count": 17,
   "id": "c485b46c-ffd4-4f94-b9ba-9f080feff46b",
   "metadata": {},
   "outputs": [],
   "source": [
    "model = CLIPModel.from_pretrained(\"./models/zsl-desc-tuned/\")"
   ]
  },
  {
   "cell_type": "markdown",
   "id": "8e0871fe-b486-4dfc-9630-0f98454330f1",
   "metadata": {
    "jp-MarkdownHeadingCollapsed": true
   },
   "source": [
    "# Few shot Learning with CLIP"
   ]
  },
  {
   "cell_type": "code",
   "execution_count": 5,
   "id": "49fd8257-05c4-4607-b48e-e3e245772ef1",
   "metadata": {},
   "outputs": [],
   "source": [
    "def minmax_scaler(tensor):\n",
    "    b, n, h, w = tensor.size()\n",
    "    min_val = tensor.view(b, n, -1).min(dim=-1, keepdims=True).values.view([b, n, 1, 1])\n",
    "    max_val = tensor.view(b, n, -1).max(dim=-1, keepdims=True).values.view([b, n, 1, 1])\n",
    "    scaled_tensor = (tensor - min_val) / (max_val - min_val + 1e-6)\n",
    "    return scaled_tensor\n",
    "\n",
    "transform = transforms.Compose([\n",
    "    transforms.RandomResizedCrop(size=224),\n",
    "    transforms.RandomHorizontalFlip(),\n",
    "    transforms.ColorJitter(brightness=0.2, contrast=0.2, saturation=0.2, hue=0.1),\n",
    "    transforms.RandomGrayscale(p=0.1),\n",
    "    transforms.GaussianBlur(kernel_size=(5, 9), sigma=(0.1, 5)),\n",
    "    transforms.Lambda(minmax_scaler)  # Apply channel-wise min-max scaling\n",
    "])"
   ]
  },
  {
   "cell_type": "code",
   "execution_count": 6,
   "id": "6deaa18f-1a60-4a27-b9fa-fd0ccf7e5f8e",
   "metadata": {},
   "outputs": [],
   "source": [
    "def transform_sample(sample):\n",
    "    pixel_values = sample[\"pixel_values\"]\n",
    "    transformed_pixel_values = transform(pixel_values)\n",
    "    sample[\"pixel_values\"] = transformed_pixel_values\n",
    "    return sample\n",
    "\n",
    "def create_extended_dataset(dataset, num_times=2):\n",
    "    extended_datasets = []\n",
    "    for _ in range(num_times - 1):\n",
    "        transformed_dataset = dataset.map(transform_sample, batched=True, batch_size=4)\n",
    "        extended_datasets.append(transformed_dataset)  \n",
    "    extended_datasets.append(dataset)\n",
    "    \n",
    "    extended_dataset = concatenate_datasets(extended_datasets)\n",
    "    return extended_dataset"
   ]
  },
  {
   "cell_type": "markdown",
   "id": "a8b0f73e-8e74-4cdf-8838-71b99ab0ce7a",
   "metadata": {
    "jp-MarkdownHeadingCollapsed": true
   },
   "source": [
    "## Real Image Only Learning"
   ]
  },
  {
   "cell_type": "code",
   "execution_count": 11,
   "id": "23ef9bf2-cad1-4af8-af01-27be78de8b83",
   "metadata": {},
   "outputs": [
    {
     "data": {
      "application/vnd.jupyter.widget-view+json": {
       "model_id": "399359e064404e6497f767b6207136b3",
       "version_major": 2,
       "version_minor": 0
      },
      "text/plain": [
       "Map:   0%|          | 0/25 [00:00<?, ? examples/s]"
      ]
     },
     "metadata": {},
     "output_type": "display_data"
    }
   ],
   "source": [
    "num_times = 10\n",
    "train_dataset = create_extended_dataset(ds[\"train\"], num_times)"
   ]
  },
  {
   "cell_type": "code",
   "execution_count": 14,
   "id": "8e0854ac-2539-429c-aa56-fa6a794f2e30",
   "metadata": {},
   "outputs": [
    {
     "data": {
      "application/vnd.jupyter.widget-view+json": {
       "model_id": "172fc2c360d04a3cbb95d178346db32b",
       "version_major": 2,
       "version_minor": 0
      },
      "text/plain": [
       "  0%|          | 0/160 [00:00<?, ?batch/s]"
      ]
     },
     "metadata": {},
     "output_type": "display_data"
    },
    {
     "name": "stdout",
     "output_type": "stream",
     "text": [
      "Epoch 1/5 - Loss: 0.6578, Accuracy: 0.1914\n",
      "Epoch 2/5 - Loss: 0.4673, Accuracy: 0.2461\n",
      "Epoch 3/5 - Loss: 0.4803, Accuracy: 0.2109\n",
      "Epoch 4/5 - Loss: 0.4273, Accuracy: 0.2773\n",
      "Epoch 5/5 - Loss: 0.3754, Accuracy: 0.3672\n"
     ]
    }
   ],
   "source": [
    "model = CLIPModel.from_pretrained(\"openai/clip-vit-base-patch32\", device_map='auto')\n",
    "\n",
    "num_frozen_layers = 100\n",
    "freeze_layers(model, num_frozen_layers)\n",
    "\n",
    "num_epochs = 5\n",
    "batch_size = 8\n",
    "learning_rate = 1e-5\n",
    "device = 'cuda'\n",
    "\n",
    "gen_prompts = json.load(open('./generated_text.json', 'r'))\n",
    "fine_tuned_model = train_clip_model(model, processor, train_dataset, gen_prompts, num_epochs, batch_size, learning_rate, device)\n",
    "\n",
    "fine_tuned_model.save_pretrained(\"./models/real-desc-tuned\")"
   ]
  },
  {
   "cell_type": "code",
   "execution_count": 15,
   "id": "593ed219-5e69-49cc-ac71-122693604d1a",
   "metadata": {},
   "outputs": [
    {
     "data": {
      "application/vnd.jupyter.widget-view+json": {
       "model_id": "0f1af153705042bd8444f0bf1952e885",
       "version_major": 2,
       "version_minor": 0
      },
      "text/plain": [
       "  0%|          | 0/8 [00:00<?, ?it/s]"
      ]
     },
     "metadata": {},
     "output_type": "display_data"
    },
    {
     "name": "stdout",
     "output_type": "stream",
     "text": [
      "              precision    recall  f1-score   support\n",
      "\n",
      "           0       0.20      1.00      0.33        50\n",
      "           1       0.00      0.00      0.00        50\n",
      "           2       0.00      0.00      0.00        50\n",
      "           3       0.00      0.00      0.00        50\n",
      "           4       0.00      0.00      0.00        50\n",
      "\n",
      "    accuracy                           0.20       250\n",
      "   macro avg       0.04      0.20      0.07       250\n",
      "weighted avg       0.04      0.20      0.07       250\n",
      "\n"
     ]
    },
    {
     "data": {
      "application/vnd.jupyter.widget-view+json": {
       "model_id": "18618af917614236a2c09a497888ee90",
       "version_major": 2,
       "version_minor": 0
      },
      "text/plain": [
       "  0%|          | 0/8 [00:00<?, ?it/s]"
      ]
     },
     "metadata": {},
     "output_type": "display_data"
    },
    {
     "name": "stdout",
     "output_type": "stream",
     "text": [
      "              precision    recall  f1-score   support\n",
      "\n",
      "           0       0.00      0.00      0.00        50\n",
      "           1       0.22      1.00      0.37        50\n",
      "           2       0.00      0.00      0.00        50\n",
      "           3       1.00      0.08      0.15        50\n",
      "           4       0.87      0.40      0.55        50\n",
      "\n",
      "    accuracy                           0.30       250\n",
      "   macro avg       0.42      0.30      0.21       250\n",
      "weighted avg       0.42      0.30      0.21       250\n",
      "\n"
     ]
    }
   ],
   "source": [
    "y_true, y_pred = eval(fine_tuned_model, i2l)\n",
    "print(classification_report(y_true, y_pred.argmax(dim=1, keepdim=True)))\n",
    "\n",
    "y_true, y_pred = eval(fine_tuned_model, desc)\n",
    "print(classification_report(y_true, y_pred.argmax(dim=1, keepdim=True)))"
   ]
  },
  {
   "cell_type": "markdown",
   "id": "4dae71ff-c846-49f9-8851-123d9c3a5e2e",
   "metadata": {
    "jp-MarkdownHeadingCollapsed": true
   },
   "source": [
    "## Phase Wise (Real -> Synthetic)"
   ]
  },
  {
   "cell_type": "code",
   "execution_count": 21,
   "id": "c7217ada-f1d7-4de3-91b9-02eba8cbfa15",
   "metadata": {},
   "outputs": [],
   "source": [
    "def get_few_shot_train_data(n_shot=1):\n",
    "    train_dataset = fsl['train']\n",
    "    unique_labels = train_dataset.unique('label')\n",
    "    new_dataset = []\n",
    "    \n",
    "    for label in unique_labels:\n",
    "        filtered_dataset = train_dataset.filter(\n",
    "            lambda example: example['label'] == label, \n",
    "            num_proc=1,\n",
    "        ).select(range(40 * n_shot))\n",
    "        new_dataset.append(filtered_dataset)\n",
    "    \n",
    "    new_fsl = concatenate_datasets(new_dataset)\n",
    "    return new_fsl"
   ]
  },
  {
   "cell_type": "markdown",
   "id": "7402ee4b-7b49-4570-8ffa-e415dfca7421",
   "metadata": {
    "jp-MarkdownHeadingCollapsed": true
   },
   "source": [
    "## 1-shot training results"
   ]
  },
  {
   "cell_type": "code",
   "execution_count": 24,
   "id": "7eea7718-a7db-4a6e-808e-6f5e08df44e0",
   "metadata": {},
   "outputs": [
    {
     "data": {
      "application/vnd.jupyter.widget-view+json": {
       "model_id": "4cf341f58e344089a0af938fdb5ae5ca",
       "version_major": 2,
       "version_minor": 0
      },
      "text/plain": [
       "  0%|          | 0/125 [00:00<?, ?batch/s]"
      ]
     },
     "metadata": {},
     "output_type": "display_data"
    },
    {
     "name": "stdout",
     "output_type": "stream",
     "text": [
      "Epoch 1/5 - Loss: 0.3587, Accuracy: 0.3850\n",
      "Epoch 2/5 - Loss: 0.3115, Accuracy: 0.4500\n",
      "Epoch 3/5 - Loss: 0.2633, Accuracy: 0.5600\n",
      "Epoch 4/5 - Loss: 0.2986, Accuracy: 0.5000\n",
      "Epoch 5/5 - Loss: 0.2191, Accuracy: 0.6250\n"
     ]
    }
   ],
   "source": [
    "num_epochs = 5\n",
    "batch_size = 8\n",
    "learning_rate = 1e-5\n",
    "device = 'cuda'\n",
    "\n",
    "model = CLIPModel.from_pretrained(\"./models/real-desc-tuned\")\n",
    "model.train()\n",
    "\n",
    "num_frozen_layers = 100\n",
    "freeze_layers(model, num_frozen_layers)\n",
    "\n",
    "train_dataset = get_few_shot_train_data(n_shot=1)\n",
    "\n",
    "gen_prompts = json.load(open('./generated_text.json', 'r'))\n",
    "fine_tuned_model = train_clip_model(model, processor, train_dataset, gen_prompts, num_epochs, batch_size, learning_rate, device)\n",
    "\n",
    "fine_tuned_model.save_pretrained(\"./models/real-syn-1-shot\")"
   ]
  },
  {
   "cell_type": "code",
   "execution_count": 25,
   "id": "562158d0-4ddd-4d60-9884-25b202d71162",
   "metadata": {},
   "outputs": [
    {
     "data": {
      "application/vnd.jupyter.widget-view+json": {
       "model_id": "ddee559795e44cb28f075f762ca60250",
       "version_major": 2,
       "version_minor": 0
      },
      "text/plain": [
       "  0%|          | 0/8 [00:00<?, ?it/s]"
      ]
     },
     "metadata": {},
     "output_type": "display_data"
    },
    {
     "name": "stdout",
     "output_type": "stream",
     "text": [
      "              precision    recall  f1-score   support\n",
      "\n",
      "           0       0.26      1.00      0.42        50\n",
      "           1       0.00      0.00      0.00        50\n",
      "           2       1.00      0.08      0.15        50\n",
      "           3       0.79      0.46      0.58        50\n",
      "           4       0.85      0.46      0.60        50\n",
      "\n",
      "    accuracy                           0.40       250\n",
      "   macro avg       0.58      0.40      0.35       250\n",
      "weighted avg       0.58      0.40      0.35       250\n",
      "\n"
     ]
    },
    {
     "data": {
      "application/vnd.jupyter.widget-view+json": {
       "model_id": "c9d41ce38af44edf87d1ed8487b97d5c",
       "version_major": 2,
       "version_minor": 0
      },
      "text/plain": [
       "  0%|          | 0/8 [00:00<?, ?it/s]"
      ]
     },
     "metadata": {},
     "output_type": "display_data"
    },
    {
     "name": "stdout",
     "output_type": "stream",
     "text": [
      "              precision    recall  f1-score   support\n",
      "\n",
      "           0       0.91      0.20      0.33        50\n",
      "           1       0.33      0.44      0.38        50\n",
      "           2       0.49      0.34      0.40        50\n",
      "           3       0.48      0.90      0.63        50\n",
      "           4       0.80      0.70      0.74        50\n",
      "\n",
      "    accuracy                           0.52       250\n",
      "   macro avg       0.60      0.52      0.50       250\n",
      "weighted avg       0.60      0.52      0.50       250\n",
      "\n"
     ]
    }
   ],
   "source": [
    "y_true, y_pred = eval(fine_tuned_model, i2l)\n",
    "print(classification_report(y_true, y_pred.argmax(dim=1, keepdim=True)))\n",
    "\n",
    "y_true, y_pred = eval(fine_tuned_model, desc)\n",
    "print(classification_report(y_true, y_pred.argmax(dim=1, keepdim=True)))"
   ]
  },
  {
   "cell_type": "markdown",
   "id": "53a62608-8d21-4cb5-9dba-13ec4db5db45",
   "metadata": {
    "jp-MarkdownHeadingCollapsed": true
   },
   "source": [
    "## 2-shot training results"
   ]
  },
  {
   "cell_type": "code",
   "execution_count": 26,
   "id": "543e7087-1503-452c-8d39-2514a37e27df",
   "metadata": {},
   "outputs": [
    {
     "data": {
      "application/vnd.jupyter.widget-view+json": {
       "model_id": "e20b2907572c434ba886746006b741fb",
       "version_major": 2,
       "version_minor": 0
      },
      "text/plain": [
       "  0%|          | 0/250 [00:00<?, ?batch/s]"
      ]
     },
     "metadata": {},
     "output_type": "display_data"
    },
    {
     "name": "stdout",
     "output_type": "stream",
     "text": [
      "Epoch 1/5 - Loss: 0.3411, Accuracy: 0.4425\n",
      "Epoch 2/5 - Loss: 0.2697, Accuracy: 0.5250\n",
      "Epoch 3/5 - Loss: 0.2104, Accuracy: 0.6500\n",
      "Epoch 4/5 - Loss: 0.1715, Accuracy: 0.7225\n",
      "Epoch 5/5 - Loss: 0.1099, Accuracy: 0.8375\n"
     ]
    }
   ],
   "source": [
    "num_epochs = 5\n",
    "batch_size = 8\n",
    "learning_rate = 1e-5\n",
    "device = 'cuda'\n",
    "\n",
    "model = CLIPModel.from_pretrained(\"./models/real-desc-tuned\")\n",
    "model.train()\n",
    "\n",
    "num_frozen_layers = 100\n",
    "freeze_layers(model, num_frozen_layers)\n",
    "\n",
    "train_dataset = get_few_shot_train_data(n_shot=2)\n",
    "\n",
    "gen_prompts = json.load(open('./generated_text.json', 'r'))\n",
    "fine_tuned_model = train_clip_model(model, processor, train_dataset, gen_prompts, num_epochs, batch_size, learning_rate, device)\n",
    "\n",
    "fine_tuned_model.save_pretrained(\"./models/real-syn-2-shot\")"
   ]
  },
  {
   "cell_type": "code",
   "execution_count": 27,
   "id": "755810ed-2ecf-43f4-8a4b-c16a3af62c03",
   "metadata": {},
   "outputs": [
    {
     "data": {
      "application/vnd.jupyter.widget-view+json": {
       "model_id": "61ec635f643b4fdcba6906d325e0abd0",
       "version_major": 2,
       "version_minor": 0
      },
      "text/plain": [
       "  0%|          | 0/8 [00:00<?, ?it/s]"
      ]
     },
     "metadata": {},
     "output_type": "display_data"
    },
    {
     "name": "stdout",
     "output_type": "stream",
     "text": [
      "              precision    recall  f1-score   support\n",
      "\n",
      "           0       0.27      0.98      0.42        50\n",
      "           1       0.00      0.00      0.00        50\n",
      "           2       1.00      0.06      0.11        50\n",
      "           3       0.88      0.46      0.61        50\n",
      "           4       0.82      0.64      0.72        50\n",
      "\n",
      "    accuracy                           0.43       250\n",
      "   macro avg       0.59      0.43      0.37       250\n",
      "weighted avg       0.59      0.43      0.37       250\n",
      "\n"
     ]
    },
    {
     "data": {
      "application/vnd.jupyter.widget-view+json": {
       "model_id": "759c9764bd6d4814a0614506f4a0315d",
       "version_major": 2,
       "version_minor": 0
      },
      "text/plain": [
       "  0%|          | 0/8 [00:00<?, ?it/s]"
      ]
     },
     "metadata": {},
     "output_type": "display_data"
    },
    {
     "name": "stdout",
     "output_type": "stream",
     "text": [
      "              precision    recall  f1-score   support\n",
      "\n",
      "           0       0.55      0.94      0.69        50\n",
      "           1       0.62      0.36      0.46        50\n",
      "           2       0.57      0.26      0.36        50\n",
      "           3       0.66      0.86      0.75        50\n",
      "           4       0.81      0.76      0.78        50\n",
      "\n",
      "    accuracy                           0.64       250\n",
      "   macro avg       0.64      0.64      0.61       250\n",
      "weighted avg       0.64      0.64      0.61       250\n",
      "\n"
     ]
    }
   ],
   "source": [
    "y_true, y_pred = eval(fine_tuned_model, i2l)\n",
    "print(classification_report(y_true, y_pred.argmax(dim=1, keepdim=True)))\n",
    "\n",
    "y_true, y_pred = eval(fine_tuned_model, desc)\n",
    "print(classification_report(y_true, y_pred.argmax(dim=1, keepdim=True)))"
   ]
  },
  {
   "cell_type": "markdown",
   "id": "b3accab6-0204-40d4-895d-c1dcc2180c4f",
   "metadata": {
    "jp-MarkdownHeadingCollapsed": true
   },
   "source": [
    "## 3-shot training results"
   ]
  },
  {
   "cell_type": "code",
   "execution_count": 31,
   "id": "bcda5c72-6a4a-40c7-9c4a-99e37ac87429",
   "metadata": {},
   "outputs": [
    {
     "data": {
      "application/vnd.jupyter.widget-view+json": {
       "model_id": "86deeaf07b174981914ec41478f65fa1",
       "version_major": 2,
       "version_minor": 0
      },
      "text/plain": [
       "  0%|          | 0/375 [00:00<?, ?batch/s]"
      ]
     },
     "metadata": {},
     "output_type": "display_data"
    },
    {
     "name": "stdout",
     "output_type": "stream",
     "text": [
      "Epoch 1/5 - Loss: 0.3403, Accuracy: 0.4283\n",
      "Epoch 2/5 - Loss: 0.2672, Accuracy: 0.5567\n",
      "Epoch 3/5 - Loss: 0.2571, Accuracy: 0.6050\n",
      "Epoch 4/5 - Loss: 0.1776, Accuracy: 0.7017\n",
      "Epoch 5/5 - Loss: 0.1111, Accuracy: 0.8383\n"
     ]
    }
   ],
   "source": [
    "num_epochs = 5\n",
    "batch_size = 8\n",
    "learning_rate = 1e-5\n",
    "device = 'cuda'\n",
    "\n",
    "model = CLIPModel.from_pretrained(\"./models/real-desc-tuned\")\n",
    "model.train()\n",
    "\n",
    "num_frozen_layers = 100\n",
    "freeze_layers(model, num_frozen_layers)\n",
    "\n",
    "train_dataset = get_few_shot_train_data(n_shot=3)\n",
    "\n",
    "gen_prompts = json.load(open('./generated_text.json', 'r'))\n",
    "fine_tuned_model = train_clip_model(model, processor, train_dataset, gen_prompts, num_epochs, batch_size, learning_rate, device)\n",
    "\n",
    "fine_tuned_model.save_pretrained(\"./models/real-syn-3-shot\")"
   ]
  },
  {
   "cell_type": "code",
   "execution_count": 32,
   "id": "4b375a36-9738-444e-95ed-a8d0dd27ec98",
   "metadata": {},
   "outputs": [
    {
     "data": {
      "application/vnd.jupyter.widget-view+json": {
       "model_id": "abb4269bc69b4ad7a4804f31b6ccc849",
       "version_major": 2,
       "version_minor": 0
      },
      "text/plain": [
       "  0%|          | 0/8 [00:00<?, ?it/s]"
      ]
     },
     "metadata": {},
     "output_type": "display_data"
    },
    {
     "name": "stdout",
     "output_type": "stream",
     "text": [
      "              precision    recall  f1-score   support\n",
      "\n",
      "           0       0.29      0.86      0.43        50\n",
      "           1       0.50      0.04      0.07        50\n",
      "           2       0.57      0.32      0.41        50\n",
      "           3       0.76      0.64      0.70        50\n",
      "           4       0.93      0.52      0.67        50\n",
      "\n",
      "    accuracy                           0.48       250\n",
      "   macro avg       0.61      0.48      0.46       250\n",
      "weighted avg       0.61      0.48      0.46       250\n",
      "\n"
     ]
    },
    {
     "data": {
      "application/vnd.jupyter.widget-view+json": {
       "model_id": "37b2127bc5704252a1d6b94b9c79211e",
       "version_major": 2,
       "version_minor": 0
      },
      "text/plain": [
       "  0%|          | 0/8 [00:00<?, ?it/s]"
      ]
     },
     "metadata": {},
     "output_type": "display_data"
    },
    {
     "name": "stdout",
     "output_type": "stream",
     "text": [
      "              precision    recall  f1-score   support\n",
      "\n",
      "           0       0.66      0.62      0.64        50\n",
      "           1       0.50      0.30      0.38        50\n",
      "           2       0.47      0.68      0.56        50\n",
      "           3       0.77      0.82      0.80        50\n",
      "           4       0.85      0.82      0.84        50\n",
      "\n",
      "    accuracy                           0.65       250\n",
      "   macro avg       0.65      0.65      0.64       250\n",
      "weighted avg       0.65      0.65      0.64       250\n",
      "\n"
     ]
    }
   ],
   "source": [
    "y_true, y_pred = eval(fine_tuned_model, i2l)\n",
    "print(classification_report(y_true, y_pred.argmax(dim=1, keepdim=True)))\n",
    "\n",
    "y_true, y_pred = eval(fine_tuned_model, desc)\n",
    "print(classification_report(y_true, y_pred.argmax(dim=1, keepdim=True)))"
   ]
  },
  {
   "cell_type": "markdown",
   "id": "fbb123f9-5ebd-417b-8e69-9d88981cf55a",
   "metadata": {
    "jp-MarkdownHeadingCollapsed": true
   },
   "source": [
    "## 4-shot training results"
   ]
  },
  {
   "cell_type": "code",
   "execution_count": 33,
   "id": "7419329c-87ad-4662-a5dd-0b5dc693fa4a",
   "metadata": {},
   "outputs": [
    {
     "data": {
      "application/vnd.jupyter.widget-view+json": {
       "model_id": "0a5bc78958b843d392e940d6fbd8b81b",
       "version_major": 2,
       "version_minor": 0
      },
      "text/plain": [
       "  0%|          | 0/500 [00:00<?, ?batch/s]"
      ]
     },
     "metadata": {},
     "output_type": "display_data"
    },
    {
     "name": "stdout",
     "output_type": "stream",
     "text": [
      "Epoch 1/5 - Loss: 0.3353, Accuracy: 0.4387\n",
      "Epoch 2/5 - Loss: 0.3269, Accuracy: 0.4475\n",
      "Epoch 3/5 - Loss: 0.2392, Accuracy: 0.6000\n",
      "Epoch 4/5 - Loss: 0.1593, Accuracy: 0.7275\n",
      "Epoch 5/5 - Loss: 0.1022, Accuracy: 0.8450\n"
     ]
    }
   ],
   "source": [
    "num_epochs = 5\n",
    "batch_size = 8\n",
    "learning_rate = 1e-5\n",
    "device = 'cuda'\n",
    "\n",
    "model = CLIPModel.from_pretrained(\"./models/real-desc-tuned\")\n",
    "model.train()\n",
    "\n",
    "num_frozen_layers = 100\n",
    "freeze_layers(model, num_frozen_layers)\n",
    "\n",
    "train_dataset = get_few_shot_train_data(n_shot=4)\n",
    "\n",
    "gen_prompts = json.load(open('./generated_text.json', 'r'))\n",
    "fine_tuned_model = train_clip_model(model, processor, train_dataset, gen_prompts, num_epochs, batch_size, learning_rate, device)\n",
    "\n",
    "fine_tuned_model.save_pretrained(\"./models/real-syn-4-shot\")"
   ]
  },
  {
   "cell_type": "code",
   "execution_count": 34,
   "id": "91288504-7966-427a-aa92-1bc6693c518e",
   "metadata": {},
   "outputs": [
    {
     "data": {
      "application/vnd.jupyter.widget-view+json": {
       "model_id": "70ad72bbb11943c1b03fc3f61e869858",
       "version_major": 2,
       "version_minor": 0
      },
      "text/plain": [
       "  0%|          | 0/8 [00:00<?, ?it/s]"
      ]
     },
     "metadata": {},
     "output_type": "display_data"
    },
    {
     "name": "stdout",
     "output_type": "stream",
     "text": [
      "              precision    recall  f1-score   support\n",
      "\n",
      "           0       0.29      0.94      0.44        50\n",
      "           1       0.00      0.00      0.00        50\n",
      "           2       0.75      0.24      0.36        50\n",
      "           3       0.78      0.62      0.69        50\n",
      "           4       1.00      0.60      0.75        50\n",
      "\n",
      "    accuracy                           0.48       250\n",
      "   macro avg       0.56      0.48      0.45       250\n",
      "weighted avg       0.56      0.48      0.45       250\n",
      "\n"
     ]
    },
    {
     "data": {
      "application/vnd.jupyter.widget-view+json": {
       "model_id": "a45dc946491344358eccdd2b8d7a21ea",
       "version_major": 2,
       "version_minor": 0
      },
      "text/plain": [
       "  0%|          | 0/8 [00:00<?, ?it/s]"
      ]
     },
     "metadata": {},
     "output_type": "display_data"
    },
    {
     "name": "stdout",
     "output_type": "stream",
     "text": [
      "              precision    recall  f1-score   support\n",
      "\n",
      "           0       0.73      0.82      0.77        50\n",
      "           1       0.67      0.20      0.31        50\n",
      "           2       0.47      0.76      0.58        50\n",
      "           3       0.82      0.80      0.81        50\n",
      "           4       0.88      0.86      0.87        50\n",
      "\n",
      "    accuracy                           0.69       250\n",
      "   macro avg       0.71      0.69      0.67       250\n",
      "weighted avg       0.71      0.69      0.67       250\n",
      "\n"
     ]
    }
   ],
   "source": [
    "y_true, y_pred = eval(fine_tuned_model, i2l)\n",
    "print(classification_report(y_true, y_pred.argmax(dim=1, keepdim=True)))\n",
    "\n",
    "y_true, y_pred = eval(fine_tuned_model, desc)\n",
    "print(classification_report(y_true, y_pred.argmax(dim=1, keepdim=True)))"
   ]
  },
  {
   "cell_type": "markdown",
   "id": "e95c83b9-a17f-4fda-b218-d6ab5a7401fe",
   "metadata": {
    "jp-MarkdownHeadingCollapsed": true
   },
   "source": [
    "## 5-shot training results"
   ]
  },
  {
   "cell_type": "code",
   "execution_count": 38,
   "id": "9108f84e-4fab-49a1-94b4-5498328d4426",
   "metadata": {},
   "outputs": [
    {
     "data": {
      "application/vnd.jupyter.widget-view+json": {
       "model_id": "132afc58f04a438e9ed2b06b99966b4e",
       "version_major": 2,
       "version_minor": 0
      },
      "text/plain": [
       "  0%|          | 0/625 [00:00<?, ?batch/s]"
      ]
     },
     "metadata": {},
     "output_type": "display_data"
    },
    {
     "name": "stdout",
     "output_type": "stream",
     "text": [
      "Epoch 1/5 - Loss: 0.1133, Accuracy: 0.8170\n",
      "Epoch 2/5 - Loss: 0.1557, Accuracy: 0.7740\n",
      "Epoch 3/5 - Loss: 0.1096, Accuracy: 0.8300\n",
      "Epoch 4/5 - Loss: 0.0533, Accuracy: 0.9240\n",
      "Epoch 5/5 - Loss: 0.0408, Accuracy: 0.9410\n"
     ]
    }
   ],
   "source": [
    "num_epochs = 5\n",
    "batch_size = 8\n",
    "learning_rate = 1e-5\n",
    "device = 'cuda'\n",
    "\n",
    "model = CLIPModel.from_pretrained(\"./models/real-desc-tuned\")\n",
    "model.train()\n",
    "\n",
    "num_frozen_layers = 100\n",
    "freeze_layers(model, num_frozen_layers)\n",
    "\n",
    "train_dataset = get_few_shot_train_data(n_shot=5)\n",
    "\n",
    "gen_prompts = json.load(open('./generated_text.json', 'r'))\n",
    "fine_tuned_model = train_clip_model(model, processor, train_dataset, gen_prompts, num_epochs, batch_size, learning_rate, device)\n",
    "\n",
    "fine_tuned_model.save_pretrained(\"./models/real-syn-5-shot\")"
   ]
  },
  {
   "cell_type": "code",
   "execution_count": 39,
   "id": "c1e712e9-69f0-407f-a8b9-2b21d4548a65",
   "metadata": {},
   "outputs": [
    {
     "data": {
      "application/vnd.jupyter.widget-view+json": {
       "model_id": "11dfbbe1f59c4e898a34ef1c5b008301",
       "version_major": 2,
       "version_minor": 0
      },
      "text/plain": [
       "  0%|          | 0/8 [00:00<?, ?it/s]"
      ]
     },
     "metadata": {},
     "output_type": "display_data"
    },
    {
     "name": "stdout",
     "output_type": "stream",
     "text": [
      "              precision    recall  f1-score   support\n",
      "\n",
      "           0       0.77      0.80      0.78        50\n",
      "           1       0.50      0.10      0.17        50\n",
      "           2       0.44      0.86      0.59        50\n",
      "           3       0.86      0.74      0.80        50\n",
      "           4       0.85      0.82      0.84        50\n",
      "\n",
      "    accuracy                           0.66       250\n",
      "   macro avg       0.69      0.66      0.63       250\n",
      "weighted avg       0.69      0.66      0.63       250\n",
      "\n"
     ]
    },
    {
     "data": {
      "application/vnd.jupyter.widget-view+json": {
       "model_id": "e64da594d690454a86ae59a615f6dd6a",
       "version_major": 2,
       "version_minor": 0
      },
      "text/plain": [
       "  0%|          | 0/8 [00:00<?, ?it/s]"
      ]
     },
     "metadata": {},
     "output_type": "display_data"
    },
    {
     "name": "stdout",
     "output_type": "stream",
     "text": [
      "              precision    recall  f1-score   support\n",
      "\n",
      "           0       0.77      0.94      0.85        50\n",
      "           1       0.70      0.28      0.40        50\n",
      "           2       0.50      0.84      0.63        50\n",
      "           3       0.97      0.70      0.81        50\n",
      "           4       0.84      0.82      0.83        50\n",
      "\n",
      "    accuracy                           0.72       250\n",
      "   macro avg       0.76      0.72      0.70       250\n",
      "weighted avg       0.76      0.72      0.70       250\n",
      "\n"
     ]
    }
   ],
   "source": [
    "y_true, y_pred = eval(fine_tuned_model, i2l)\n",
    "print(classification_report(y_true, y_pred.argmax(dim=1, keepdim=True)))\n",
    "\n",
    "y_true, y_pred = eval(fine_tuned_model, desc)\n",
    "print(classification_report(y_true, y_pred.argmax(dim=1, keepdim=True)))"
   ]
  },
  {
   "cell_type": "markdown",
   "id": "2db461bf-d065-49c1-8f33-a6e4f48aebca",
   "metadata": {
    "jp-MarkdownHeadingCollapsed": true
   },
   "source": [
    "# Multimodal Models"
   ]
  },
  {
   "cell_type": "code",
   "execution_count": 7,
   "id": "b3a781d4-75a7-4e6d-9a2a-daa180f8a4dd",
   "metadata": {},
   "outputs": [],
   "source": [
    "import re\n",
    "\n",
    "from llava.conversation import conv_templates, SeparatorStyle\n",
    "from llava.mm_utils import (\n",
    "    process_images,\n",
    "    tokenizer_image_token,\n",
    "    get_model_name_from_path,\n",
    ")\n",
    "from llava.constants import (\n",
    "    IMAGE_TOKEN_INDEX,\n",
    "    DEFAULT_IMAGE_TOKEN,\n",
    "    DEFAULT_IM_START_TOKEN,\n",
    "    DEFAULT_IM_END_TOKEN,\n",
    "    IMAGE_PLACEHOLDER,\n",
    ")\n",
    "\n",
    "from llava.model.builder import load_pretrained_model"
   ]
  },
  {
   "cell_type": "code",
   "execution_count": 9,
   "id": "469dfc0c-71e7-451a-b235-94249e193930",
   "metadata": {},
   "outputs": [
    {
     "name": "stderr",
     "output_type": "stream",
     "text": [
      "You are using a model of type llava to instantiate a model of type llava_llama. This is not supported for all configurations of models and can yield errors.\n"
     ]
    },
    {
     "data": {
      "application/vnd.jupyter.widget-view+json": {
       "model_id": "9f4434ad30a6475f918c74ec534a0cbc",
       "version_major": 2,
       "version_minor": 0
      },
      "text/plain": [
       "Loading checkpoint shards:   0%|          | 0/3 [00:00<?, ?it/s]"
      ]
     },
     "metadata": {},
     "output_type": "display_data"
    }
   ],
   "source": [
    "model_path = \"liuhaotian/llava-v1.6-vicuna-7b\"\n",
    "\n",
    "tokenizer, model, image_processor, context_len = load_pretrained_model(\n",
    "    model_path=model_path,\n",
    "    model_base=None,\n",
    "    model_name=get_model_name_from_path(model_path),\n",
    "    load_4bit=True\n",
    ")"
   ]
  },
  {
   "cell_type": "code",
   "execution_count": 4,
   "id": "4389bfa3-63e6-42d2-b480-3a6e1852793b",
   "metadata": {},
   "outputs": [],
   "source": [
    "def eval_model(model, model_name, query, images):\n",
    "    qs = query\n",
    "    image_token_se = DEFAULT_IM_START_TOKEN + DEFAULT_IMAGE_TOKEN + DEFAULT_IM_END_TOKEN\n",
    "    if IMAGE_PLACEHOLDER in qs:\n",
    "        if model.config.mm_use_im_start_end:\n",
    "            qs = re.sub(IMAGE_PLACEHOLDER, image_token_se, qs)\n",
    "        else:\n",
    "            qs = re.sub(IMAGE_PLACEHOLDER, DEFAULT_IMAGE_TOKEN, qs)\n",
    "    else:\n",
    "        if model.config.mm_use_im_start_end:\n",
    "            qs = image_token_se + \"\\n\" + qs\n",
    "        else:\n",
    "            qs = DEFAULT_IMAGE_TOKEN + \"\\n\" + qs\n",
    "\n",
    "    if \"llama-2\" in model_name.lower():\n",
    "        conv_mode = \"llava_llama_2\"\n",
    "    elif \"mistral\" in model_name.lower():\n",
    "        conv_mode = \"mistral_instruct\"\n",
    "    elif \"v1.6-34b\" in model_name.lower():\n",
    "        conv_mode = \"chatml_direct\"\n",
    "    elif \"v1\" in model_name.lower():\n",
    "        conv_mode = \"llava_v1\"\n",
    "    elif \"mpt\" in model_name.lower():\n",
    "        conv_mode = \"mpt\"\n",
    "    else:\n",
    "        conv_mode = \"llava_v0\"\n",
    "\n",
    "    conv = conv_templates[conv_mode].copy()\n",
    "    conv.append_message(conv.roles[0], qs)\n",
    "    conv.append_message(conv.roles[1], None)\n",
    "    prompt = conv.get_prompt()\n",
    "\n",
    "    image_sizes = [x.size for x in images]\n",
    "    images_tensor = process_images(\n",
    "        images,\n",
    "        image_processor,\n",
    "        model.config\n",
    "    ).to(model.device, dtype=torch.float16)\n",
    "\n",
    "    input_ids = (\n",
    "        tokenizer_image_token(prompt, tokenizer, IMAGE_TOKEN_INDEX, return_tensors=\"pt\")\n",
    "        .unsqueeze(0)\n",
    "        .cuda()\n",
    "    )\n",
    "\n",
    "    with torch.inference_mode():\n",
    "        output_ids = model.generate(\n",
    "            input_ids,\n",
    "            images=images_tensor,\n",
    "            image_sizes=image_sizes,\n",
    "            do_sample=False,\n",
    "            temperature=0,\n",
    "            top_p=None,\n",
    "            num_beams=1,\n",
    "            max_new_tokens=512,\n",
    "            use_cache=True,\n",
    "        )\n",
    "\n",
    "    outputs = tokenizer.batch_decode(output_ids, skip_special_tokens=True)[0].strip()\n",
    "    return outputs"
   ]
  },
  {
   "cell_type": "markdown",
   "id": "d57e4029-d358-4507-bae8-525a4979e229",
   "metadata": {
    "jp-MarkdownHeadingCollapsed": true
   },
   "source": [
    "## Zero-shot evaluation on LLaVa (MLLM)"
   ]
  },
  {
   "cell_type": "code",
   "execution_count": 15,
   "id": "2c37a473-fa3d-4910-baac-f79387100452",
   "metadata": {},
   "outputs": [
    {
     "data": {
      "application/vnd.jupyter.widget-view+json": {
       "model_id": "c6f0d622fdd04d4fa250facc7bebde4e",
       "version_major": 2,
       "version_minor": 0
      },
      "text/plain": [
       "  0%|          | 0/5 [00:00<?, ?it/s]"
      ]
     },
     "metadata": {},
     "output_type": "display_data"
    },
    {
     "data": {
      "application/vnd.jupyter.widget-view+json": {
       "model_id": "8c63c9fd8123481e9678b0acb15cda8c",
       "version_major": 2,
       "version_minor": 0
      },
      "text/plain": [
       "  0%|          | 0/50 [00:00<?, ?it/s]"
      ]
     },
     "metadata": {},
     "output_type": "display_data"
    },
    {
     "data": {
      "application/vnd.jupyter.widget-view+json": {
       "model_id": "f42023897b374762ad1aac796cedb364",
       "version_major": 2,
       "version_minor": 0
      },
      "text/plain": [
       "  0%|          | 0/50 [00:00<?, ?it/s]"
      ]
     },
     "metadata": {},
     "output_type": "display_data"
    },
    {
     "data": {
      "application/vnd.jupyter.widget-view+json": {
       "model_id": "5a8ea67626574cfdad5f065cc92e1b8f",
       "version_major": 2,
       "version_minor": 0
      },
      "text/plain": [
       "  0%|          | 0/50 [00:00<?, ?it/s]"
      ]
     },
     "metadata": {},
     "output_type": "display_data"
    },
    {
     "data": {
      "application/vnd.jupyter.widget-view+json": {
       "model_id": "26144379dc2e43a7919608e9e0181d4f",
       "version_major": 2,
       "version_minor": 0
      },
      "text/plain": [
       "  0%|          | 0/50 [00:00<?, ?it/s]"
      ]
     },
     "metadata": {},
     "output_type": "display_data"
    },
    {
     "data": {
      "application/vnd.jupyter.widget-view+json": {
       "model_id": "93c8564d6de240baa06e6a8d855931d7",
       "version_major": 2,
       "version_minor": 0
      },
      "text/plain": [
       "  0%|          | 0/50 [00:00<?, ?it/s]"
      ]
     },
     "metadata": {},
     "output_type": "display_data"
    }
   ],
   "source": [
    "query = f\"\"\"\n",
    "{IMAGE_PLACEHOLDER} \n",
    "\n",
    "Classify this image in one of the following classes\n",
    "- Rufflesia-Arnoldii\n",
    "- Encephalartos-Woodii\n",
    "- Amorphophallus-Titanum\n",
    "- Ghost-Orchid\n",
    "- Dracaena-Cinnabari\n",
    "\n",
    "Only give the class name for the class which you are \n",
    "highly confident the image belongs to.\n",
    "\"\"\"\n",
    "\n",
    "y_true = []\n",
    "y_pred = []\n",
    "\n",
    "for plant in tqdm(prompt):\n",
    "    for i in trange(50):\n",
    "        pred = eval_model(\n",
    "            model=model, \n",
    "            model_name=get_model_name_from_path(model_path),\n",
    "            query=query,\n",
    "            images=[Image.open(f'./data/test/{plant}/{i+1:02d}.jpeg')]\n",
    "        )\n",
    "        \n",
    "        y_true.append(plant)\n",
    "        y_pred.append(pred)"
   ]
  },
  {
   "cell_type": "code",
   "execution_count": 16,
   "id": "c069097c-9516-46ca-9b14-f7b45e82cfdc",
   "metadata": {},
   "outputs": [
    {
     "name": "stdout",
     "output_type": "stream",
     "text": [
      "                        precision    recall  f1-score   support\n",
      "\n",
      "Amorphophallus-Titanum       1.00      0.06      0.11        50\n",
      "    Dracaena-Cinnabari       0.00      0.00      0.00        50\n",
      "  Encephalartos-Woodii       0.18      0.20      0.19        50\n",
      "          Ghost-Orchid       1.00      0.22      0.36        50\n",
      "    Rufflesia-Arnoldii       0.28      1.00      0.43        50\n",
      "\n",
      "              accuracy                           0.30       250\n",
      "             macro avg       0.49      0.30      0.22       250\n",
      "          weighted avg       0.49      0.30      0.22       250\n",
      "\n"
     ]
    }
   ],
   "source": [
    "print(classification_report(y_true, y_pred))"
   ]
  },
  {
   "cell_type": "markdown",
   "id": "a8cca5fe-a1e7-44cb-8013-0fb08315cf13",
   "metadata": {},
   "source": [
    "## Evaluation after Fine-Tuning"
   ]
  },
  {
   "cell_type": "markdown",
   "id": "060ef6d2-b641-4473-8641-edd4ec2d3cfb",
   "metadata": {},
   "source": [
    "### Fine-tuned zero shot evaluation"
   ]
  },
  {
   "cell_type": "code",
   "execution_count": 11,
   "id": "f7b09cfb-da50-46ca-b5ab-d7d32b706713",
   "metadata": {},
   "outputs": [],
   "source": [
    "lora_path = '/home/LLaVA/checkpoints/llava-vicuna-v1-6-7b-finetune_qlora_plant/'\n",
    "model.load_adapter(lora_path)"
   ]
  },
  {
   "cell_type": "code",
   "execution_count": 13,
   "id": "9e03a7f9-6f4b-475a-9240-5cc08bafc50f",
   "metadata": {},
   "outputs": [
    {
     "data": {
      "application/vnd.jupyter.widget-view+json": {
       "model_id": "2403c946d378415eb82df9cf2a12cb2f",
       "version_major": 2,
       "version_minor": 0
      },
      "text/plain": [
       "  0%|          | 0/5 [00:00<?, ?it/s]"
      ]
     },
     "metadata": {},
     "output_type": "display_data"
    },
    {
     "data": {
      "application/vnd.jupyter.widget-view+json": {
       "model_id": "5037ad4b81b94fe0a2265a372433cc9e",
       "version_major": 2,
       "version_minor": 0
      },
      "text/plain": [
       "  0%|          | 0/50 [00:00<?, ?it/s]"
      ]
     },
     "metadata": {},
     "output_type": "display_data"
    },
    {
     "data": {
      "application/vnd.jupyter.widget-view+json": {
       "model_id": "991c81ceb7944bf0a64fd6490716b8b1",
       "version_major": 2,
       "version_minor": 0
      },
      "text/plain": [
       "  0%|          | 0/50 [00:00<?, ?it/s]"
      ]
     },
     "metadata": {},
     "output_type": "display_data"
    },
    {
     "data": {
      "application/vnd.jupyter.widget-view+json": {
       "model_id": "d7c507b0771d4a8c855037ae796f545e",
       "version_major": 2,
       "version_minor": 0
      },
      "text/plain": [
       "  0%|          | 0/50 [00:00<?, ?it/s]"
      ]
     },
     "metadata": {},
     "output_type": "display_data"
    },
    {
     "data": {
      "application/vnd.jupyter.widget-view+json": {
       "model_id": "cb308a857fb54ce2a03e003323f7d7fd",
       "version_major": 2,
       "version_minor": 0
      },
      "text/plain": [
       "  0%|          | 0/50 [00:00<?, ?it/s]"
      ]
     },
     "metadata": {},
     "output_type": "display_data"
    },
    {
     "data": {
      "application/vnd.jupyter.widget-view+json": {
       "model_id": "19602bcbcd6c481cab308e7aed6b8883",
       "version_major": 2,
       "version_minor": 0
      },
      "text/plain": [
       "  0%|          | 0/50 [00:00<?, ?it/s]"
      ]
     },
     "metadata": {},
     "output_type": "display_data"
    },
    {
     "name": "stdout",
     "output_type": "stream",
     "text": [
      "                        precision    recall  f1-score   support\n",
      "\n",
      "Amorphophallus-Titanum       0.30      1.00      0.46        50\n",
      "    Dracaena-Cinnabari       0.33      0.02      0.04        50\n",
      "  Encephalartos-Woodii       0.20      0.04      0.07        50\n",
      "          Ghost-Orchid       0.94      1.00      0.97        50\n",
      "    Rufflesia-Arnoldii       0.00      0.00      0.00        50\n",
      "\n",
      "              accuracy                           0.41       250\n",
      "             macro avg       0.35      0.41      0.31       250\n",
      "          weighted avg       0.35      0.41      0.31       250\n",
      "\n"
     ]
    }
   ],
   "source": [
    "query = f\"\"\"\n",
    "{IMAGE_PLACEHOLDER} \n",
    "\n",
    "Classify this image in one of the following classes\n",
    "- Rufflesia-Arnoldii\n",
    "- Encephalartos-Woodii\n",
    "- Amorphophallus-Titanum\n",
    "- Ghost-Orchid\n",
    "- Dracaena-Cinnabari\n",
    "\n",
    "Only give the class name for the class which you are \n",
    "highly confident the image belongs to.\n",
    "\"\"\"\n",
    "\n",
    "y_true = []\n",
    "y_pred = []\n",
    "\n",
    "for plant in tqdm(prompt):\n",
    "    for i in trange(50):\n",
    "        pred = eval_model(\n",
    "            model=model, \n",
    "            model_name=get_model_name_from_path(model_path),\n",
    "            query=query,\n",
    "            images=[Image.open(f'./data/test/{plant}/{i+1:02d}.jpeg')]\n",
    "        )\n",
    "        \n",
    "        y_true.append(plant)\n",
    "        y_pred.append(pred)\n",
    "\n",
    "print(classification_report(y_true, y_pred))"
   ]
  },
  {
   "cell_type": "markdown",
   "id": "711b7d1c-2e26-40c1-af22-f2232582d872",
   "metadata": {},
   "source": [
    "# ViT Classifier"
   ]
  },
  {
   "cell_type": "code",
   "execution_count": 42,
   "id": "0124ad21-9927-463e-954f-f48bb56d3a67",
   "metadata": {},
   "outputs": [
    {
     "name": "stderr",
     "output_type": "stream",
     "text": [
      "Some weights of ViTForImageClassification were not initialized from the model checkpoint at google/vit-base-patch16-224 and are newly initialized because the shapes did not match:\n",
      "- classifier.bias: found shape torch.Size([1000]) in the checkpoint and torch.Size([5]) in the model instantiated\n",
      "- classifier.weight: found shape torch.Size([1000, 768]) in the checkpoint and torch.Size([5, 768]) in the model instantiated\n",
      "You should probably TRAIN this model on a down-stream task to be able to use it for predictions and inference.\n"
     ]
    }
   ],
   "source": [
    "from datasets import load_dataset\n",
    "from transformers import ViTImageProcessor, ViTForImageClassification, TrainingArguments, Trainer\n",
    "from sklearn.metrics import accuracy_score, f1_score\n",
    "\n",
    "# Initialize the image processor and model\n",
    "image_processor = ViTImageProcessor.from_pretrained('google/vit-base-patch16-224', do_rescale=False)\n",
    "model = ViTForImageClassification.from_pretrained('google/vit-base-patch16-224', num_labels=5, ignore_mismatched_sizes=True)\n",
    "\n",
    "# Define the data preprocessing function\n",
    "def preprocess_function(examples):\n",
    "    inputs = image_processor(examples['pixel_values'], return_tensors=\"pt\")\n",
    "    inputs['labels'] = examples['label']\n",
    "    return inputs"
   ]
  },
  {
   "cell_type": "markdown",
   "id": "dd8f7cb1-a89a-4396-8c2e-c8bc473265c4",
   "metadata": {
    "jp-MarkdownHeadingCollapsed": true
   },
   "source": [
    "## Real Data Only"
   ]
  },
  {
   "cell_type": "code",
   "execution_count": 43,
   "id": "af3f1f89-54be-46d7-badf-1e05c3cabea2",
   "metadata": {},
   "outputs": [],
   "source": [
    "num_times = 20\n",
    "train_ds = create_extended_dataset(ds['train'], num_times)\n",
    "processed_dataset = train_ds.map(preprocess_function, batched=True)\n",
    "\n",
    "# train_ds = train_dataset.train_test_split(\n",
    "#     test_size=0.2, \n",
    "#     shuffle=True, \n",
    "#     seed=42, \n",
    "#     stratify_by_column='label'\n",
    "# )"
   ]
  },
  {
   "cell_type": "code",
   "execution_count": 45,
   "id": "10890c71-755c-4e93-ad59-63e7d4cec66c",
   "metadata": {},
   "outputs": [
    {
     "name": "stderr",
     "output_type": "stream",
     "text": [
      "Detected kernel version 5.4.0, which is below the recommended minimum of 5.5.0; this can cause the process to hang. It is recommended to upgrade the kernel to the minimum version or higher.\n"
     ]
    },
    {
     "data": {
      "text/html": [
       "\n",
       "    <div>\n",
       "      \n",
       "      <progress value='160' max='160' style='width:300px; height:20px; vertical-align: middle;'></progress>\n",
       "      [160/160 01:39, Epoch 5/5]\n",
       "    </div>\n",
       "    <table border=\"1\" class=\"dataframe\">\n",
       "  <thead>\n",
       " <tr style=\"text-align: left;\">\n",
       "      <th>Epoch</th>\n",
       "      <th>Training Loss</th>\n",
       "      <th>Validation Loss</th>\n",
       "      <th>Accuracy</th>\n",
       "      <th>F1</th>\n",
       "    </tr>\n",
       "  </thead>\n",
       "  <tbody>\n",
       "    <tr>\n",
       "      <td>1</td>\n",
       "      <td>1.384600</td>\n",
       "      <td>1.554926</td>\n",
       "      <td>0.364000</td>\n",
       "      <td>0.386581</td>\n",
       "    </tr>\n",
       "    <tr>\n",
       "      <td>2</td>\n",
       "      <td>0.821600</td>\n",
       "      <td>1.419253</td>\n",
       "      <td>0.424000</td>\n",
       "      <td>0.446194</td>\n",
       "    </tr>\n",
       "    <tr>\n",
       "      <td>3</td>\n",
       "      <td>0.477800</td>\n",
       "      <td>1.328774</td>\n",
       "      <td>0.476000</td>\n",
       "      <td>0.491890</td>\n",
       "    </tr>\n",
       "    <tr>\n",
       "      <td>4</td>\n",
       "      <td>0.389000</td>\n",
       "      <td>1.274997</td>\n",
       "      <td>0.504000</td>\n",
       "      <td>0.517480</td>\n",
       "    </tr>\n",
       "    <tr>\n",
       "      <td>5</td>\n",
       "      <td>0.486300</td>\n",
       "      <td>1.258621</td>\n",
       "      <td>0.516000</td>\n",
       "      <td>0.527586</td>\n",
       "    </tr>\n",
       "  </tbody>\n",
       "</table><p>"
      ],
      "text/plain": [
       "<IPython.core.display.HTML object>"
      ]
     },
     "metadata": {},
     "output_type": "display_data"
    },
    {
     "data": {
      "text/plain": [
       "TrainOutput(global_step=160, training_loss=0.771074716746807, metrics={'train_runtime': 100.0261, 'train_samples_per_second': 24.993, 'train_steps_per_second': 1.6, 'total_flos': 1.9373518305792e+17, 'train_loss': 0.771074716746807, 'epoch': 5.0})"
      ]
     },
     "execution_count": 45,
     "metadata": {},
     "output_type": "execute_result"
    }
   ],
   "source": [
    "# Define the training arguments\n",
    "training_args = TrainingArguments(\n",
    "    output_dir='./models',\n",
    "    num_train_epochs=5,\n",
    "    per_device_train_batch_size=16,\n",
    "    per_device_eval_batch_size=16,\n",
    "    evaluation_strategy='epoch',\n",
    "    save_strategy='epoch',\n",
    "    learning_rate=2e-6,\n",
    "    warmup_steps=3,\n",
    "    weight_decay=0.01,\n",
    "    load_best_model_at_end=True,\n",
    "    metric_for_best_model='f1',\n",
    "    logging_dir='./logs',\n",
    "    logging_steps=1,\n",
    "    push_to_hub=False,\n",
    ")\n",
    "\n",
    "# Define the compute metrics function\n",
    "def compute_metrics(pred):\n",
    "    labels = pred.label_ids\n",
    "    preds = pred.predictions.argmax(-1)\n",
    "    acc = accuracy_score(labels, preds)\n",
    "    f1 = f1_score(labels, preds, average='weighted')\n",
    "    return {'accuracy': acc, 'f1': f1}\n",
    "\n",
    "# Create the Trainer instance\n",
    "trainer = Trainer(\n",
    "    model=model,\n",
    "    args=training_args,\n",
    "    train_dataset=processed_dataset,\n",
    "    eval_dataset=ds['test'],\n",
    "    compute_metrics=compute_metrics,\n",
    ")\n",
    "\n",
    "# Train the model\n",
    "trainer.train()"
   ]
  },
  {
   "cell_type": "code",
   "execution_count": 46,
   "id": "c72c16ad-8ef3-4271-9a27-13270d61b2b5",
   "metadata": {},
   "outputs": [
    {
     "data": {
      "text/html": [],
      "text/plain": [
       "<IPython.core.display.HTML object>"
      ]
     },
     "metadata": {},
     "output_type": "display_data"
    },
    {
     "name": "stdout",
     "output_type": "stream",
     "text": [
      "              precision    recall  f1-score   support\n",
      "\n",
      "           0       0.93      0.86      0.90        50\n",
      "           1       0.12      0.10      0.11        50\n",
      "           2       0.18      0.30      0.23        50\n",
      "           3       0.70      0.38      0.49        50\n",
      "           4       0.89      0.94      0.91        50\n",
      "\n",
      "    accuracy                           0.52       250\n",
      "   macro avg       0.57      0.52      0.53       250\n",
      "weighted avg       0.57      0.52      0.53       250\n",
      "\n"
     ]
    }
   ],
   "source": [
    "preds = trainer.predict(ds['test'])\n",
    "print(classification_report(preds.label_ids, preds.predictions.argmax(axis=1)))"
   ]
  },
  {
   "cell_type": "markdown",
   "id": "5943471f-fe2f-4e93-94b1-68d83c86143b",
   "metadata": {
    "jp-MarkdownHeadingCollapsed": true
   },
   "source": [
    "## Independent Synthetic Data"
   ]
  },
  {
   "cell_type": "code",
   "execution_count": 21,
   "id": "992587e0-184b-4f46-bae5-bc4432e46d7d",
   "metadata": {},
   "outputs": [
    {
     "data": {
      "application/vnd.jupyter.widget-view+json": {
       "model_id": "745758e1acdc47ffb29753e563d8e5b2",
       "version_major": 2,
       "version_minor": 0
      },
      "text/plain": [
       "Map:   0%|          | 0/1600 [00:00<?, ? examples/s]"
      ]
     },
     "metadata": {},
     "output_type": "display_data"
    },
    {
     "name": "stderr",
     "output_type": "stream",
     "text": [
      "Some weights of ViTForImageClassification were not initialized from the model checkpoint at google/vit-base-patch16-224 and are newly initialized because the shapes did not match:\n",
      "- classifier.bias: found shape torch.Size([1000]) in the checkpoint and torch.Size([5]) in the model instantiated\n",
      "- classifier.weight: found shape torch.Size([1000, 768]) in the checkpoint and torch.Size([5, 768]) in the model instantiated\n",
      "You should probably TRAIN this model on a down-stream task to be able to use it for predictions and inference.\n",
      "Detected kernel version 5.4.0, which is below the recommended minimum of 5.5.0; this can cause the process to hang. It is recommended to upgrade the kernel to the minimum version or higher.\n"
     ]
    },
    {
     "data": {
      "text/html": [
       "\n",
       "    <div>\n",
       "      \n",
       "      <progress value='500' max='500' style='width:300px; height:20px; vertical-align: middle;'></progress>\n",
       "      [500/500 04:32, Epoch 5/5]\n",
       "    </div>\n",
       "    <table border=\"1\" class=\"dataframe\">\n",
       "  <thead>\n",
       " <tr style=\"text-align: left;\">\n",
       "      <th>Epoch</th>\n",
       "      <th>Training Loss</th>\n",
       "      <th>Validation Loss</th>\n",
       "      <th>Accuracy</th>\n",
       "      <th>F1</th>\n",
       "    </tr>\n",
       "  </thead>\n",
       "  <tbody>\n",
       "    <tr>\n",
       "      <td>1</td>\n",
       "      <td>0.485500</td>\n",
       "      <td>1.337899</td>\n",
       "      <td>0.560000</td>\n",
       "      <td>0.516359</td>\n",
       "    </tr>\n",
       "    <tr>\n",
       "      <td>2</td>\n",
       "      <td>0.166200</td>\n",
       "      <td>1.118210</td>\n",
       "      <td>0.748000</td>\n",
       "      <td>0.735270</td>\n",
       "    </tr>\n",
       "    <tr>\n",
       "      <td>3</td>\n",
       "      <td>0.050300</td>\n",
       "      <td>0.983992</td>\n",
       "      <td>0.812000</td>\n",
       "      <td>0.803625</td>\n",
       "    </tr>\n",
       "    <tr>\n",
       "      <td>4</td>\n",
       "      <td>0.032900</td>\n",
       "      <td>0.929392</td>\n",
       "      <td>0.832000</td>\n",
       "      <td>0.827122</td>\n",
       "    </tr>\n",
       "    <tr>\n",
       "      <td>5</td>\n",
       "      <td>0.038500</td>\n",
       "      <td>0.915038</td>\n",
       "      <td>0.832000</td>\n",
       "      <td>0.827724</td>\n",
       "    </tr>\n",
       "  </tbody>\n",
       "</table><p>"
      ],
      "text/plain": [
       "<IPython.core.display.HTML object>"
      ]
     },
     "metadata": {},
     "output_type": "display_data"
    },
    {
     "data": {
      "text/plain": [
       "TrainOutput(global_step=500, training_loss=0.2779338041841984, metrics={'train_runtime': 272.9266, 'train_samples_per_second': 29.312, 'train_steps_per_second': 1.832, 'total_flos': 6.19952585785344e+17, 'train_loss': 0.2779338041841984, 'epoch': 5.0})"
      ]
     },
     "execution_count": 21,
     "metadata": {},
     "output_type": "execute_result"
    }
   ],
   "source": [
    "processed_dataset = syn.map(preprocess_function, batched=True)\n",
    "\n",
    "model = ViTForImageClassification.from_pretrained('google/vit-base-patch16-224', num_labels=5, ignore_mismatched_sizes=True)\n",
    "\n",
    "# Create the Trainer instance\n",
    "trainer = Trainer(\n",
    "    model=model,\n",
    "    args=training_args,\n",
    "    train_dataset=processed_dataset['train'],\n",
    "    eval_dataset=ds['test'],\n",
    "    compute_metrics=compute_metrics,\n",
    ")\n",
    "\n",
    "# Train the model\n",
    "trainer.train()"
   ]
  },
  {
   "cell_type": "code",
   "execution_count": 33,
   "id": "d6a1a870-2d03-44a2-9dbb-a21f0611384b",
   "metadata": {},
   "outputs": [
    {
     "name": "stdout",
     "output_type": "stream",
     "text": [
      "              precision    recall  f1-score   support\n",
      "\n",
      "           0       0.64      0.98      0.77        50\n",
      "           1       0.92      0.96      0.94        50\n",
      "           2       0.97      0.56      0.71        50\n",
      "           3       1.00      0.68      0.81        50\n",
      "           4       0.84      0.98      0.91        50\n",
      "\n",
      "    accuracy                           0.83       250\n",
      "   macro avg       0.87      0.83      0.83       250\n",
      "weighted avg       0.87      0.83      0.83       250\n",
      "\n"
     ]
    }
   ],
   "source": [
    "preds = trainer.predict(ds['test'])\n",
    "print(classification_report(preds.label_ids, preds.predictions.argmax(axis=1)))"
   ]
  },
  {
   "cell_type": "markdown",
   "id": "7aa67c69-df08-4a95-9cbc-5fea6e0798cf",
   "metadata": {},
   "source": [
    "## 5-shot synthetic data"
   ]
  },
  {
   "cell_type": "code",
   "execution_count": 53,
   "id": "c9858b13-792d-454d-be53-c46b14637fb8",
   "metadata": {},
   "outputs": [
    {
     "name": "stderr",
     "output_type": "stream",
     "text": [
      "Some weights of ViTForImageClassification were not initialized from the model checkpoint at google/vit-base-patch16-224 and are newly initialized because the shapes did not match:\n",
      "- classifier.bias: found shape torch.Size([1000]) in the checkpoint and torch.Size([5]) in the model instantiated\n",
      "- classifier.weight: found shape torch.Size([1000, 768]) in the checkpoint and torch.Size([5, 768]) in the model instantiated\n",
      "You should probably TRAIN this model on a down-stream task to be able to use it for predictions and inference.\n",
      "Detected kernel version 5.4.0, which is below the recommended minimum of 5.5.0; this can cause the process to hang. It is recommended to upgrade the kernel to the minimum version or higher.\n"
     ]
    },
    {
     "data": {
      "text/html": [
       "\n",
       "    <div>\n",
       "      \n",
       "      <progress value='940' max='940' style='width:300px; height:20px; vertical-align: middle;'></progress>\n",
       "      [940/940 08:10, Epoch 5/5]\n",
       "    </div>\n",
       "    <table border=\"1\" class=\"dataframe\">\n",
       "  <thead>\n",
       " <tr style=\"text-align: left;\">\n",
       "      <th>Epoch</th>\n",
       "      <th>Training Loss</th>\n",
       "      <th>Validation Loss</th>\n",
       "      <th>Accuracy</th>\n",
       "      <th>F1</th>\n",
       "    </tr>\n",
       "  </thead>\n",
       "  <tbody>\n",
       "    <tr>\n",
       "      <td>1</td>\n",
       "      <td>0.560400</td>\n",
       "      <td>0.929855</td>\n",
       "      <td>0.868000</td>\n",
       "      <td>0.866584</td>\n",
       "    </tr>\n",
       "    <tr>\n",
       "      <td>2</td>\n",
       "      <td>0.185700</td>\n",
       "      <td>0.582899</td>\n",
       "      <td>0.936000</td>\n",
       "      <td>0.935002</td>\n",
       "    </tr>\n",
       "    <tr>\n",
       "      <td>3</td>\n",
       "      <td>0.102200</td>\n",
       "      <td>0.415749</td>\n",
       "      <td>0.968000</td>\n",
       "      <td>0.967910</td>\n",
       "    </tr>\n",
       "    <tr>\n",
       "      <td>4</td>\n",
       "      <td>0.193300</td>\n",
       "      <td>0.350093</td>\n",
       "      <td>0.976000</td>\n",
       "      <td>0.975971</td>\n",
       "    </tr>\n",
       "    <tr>\n",
       "      <td>5</td>\n",
       "      <td>0.141300</td>\n",
       "      <td>0.333270</td>\n",
       "      <td>0.976000</td>\n",
       "      <td>0.975971</td>\n",
       "    </tr>\n",
       "  </tbody>\n",
       "</table><p>"
      ],
      "text/plain": [
       "<IPython.core.display.HTML object>"
      ]
     },
     "metadata": {},
     "output_type": "display_data"
    },
    {
     "data": {
      "text/plain": [
       "TrainOutput(global_step=940, training_loss=0.3243149625058187, metrics={'train_runtime': 491.6144, 'train_samples_per_second': 30.512, 'train_steps_per_second': 1.912, 'total_flos': 1.16241109834752e+18, 'train_loss': 0.3243149625058187, 'epoch': 5.0})"
      ]
     },
     "execution_count": 53,
     "metadata": {},
     "output_type": "execute_result"
    }
   ],
   "source": [
    "train_ds = create_extended_dataset(fsl['train'], 3)\n",
    "processed_dataset = train_ds.map(preprocess_function, batched=True)\n",
    "\n",
    "model = ViTForImageClassification.from_pretrained('google/vit-base-patch16-224', num_labels=5, ignore_mismatched_sizes=True)\n",
    "\n",
    "# Create the Trainer instance\n",
    "trainer = Trainer(\n",
    "    model=model,\n",
    "    args=training_args,\n",
    "    train_dataset=processed_dataset,\n",
    "    eval_dataset=ds['test'],\n",
    "    compute_metrics=compute_metrics,\n",
    ")\n",
    "\n",
    "# Train the model\n",
    "trainer.train()"
   ]
  },
  {
   "cell_type": "code",
   "execution_count": 54,
   "id": "6a79827c-c632-437b-bca4-9ff1596afb7a",
   "metadata": {},
   "outputs": [
    {
     "data": {
      "text/html": [],
      "text/plain": [
       "<IPython.core.display.HTML object>"
      ]
     },
     "metadata": {},
     "output_type": "display_data"
    },
    {
     "name": "stdout",
     "output_type": "stream",
     "text": [
      "              precision    recall  f1-score   support\n",
      "\n",
      "           0       1.00      1.00      1.00        50\n",
      "           1       0.96      1.00      0.98        50\n",
      "           2       0.93      1.00      0.96        50\n",
      "           3       1.00      0.92      0.96        50\n",
      "           4       1.00      0.96      0.98        50\n",
      "\n",
      "    accuracy                           0.98       250\n",
      "   macro avg       0.98      0.98      0.98       250\n",
      "weighted avg       0.98      0.98      0.98       250\n",
      "\n"
     ]
    }
   ],
   "source": [
    "preds = trainer.predict(ds['test'])\n",
    "print(classification_report(preds.label_ids, preds.predictions.argmax(axis=1)))"
   ]
  },
  {
   "cell_type": "code",
   "execution_count": null,
   "id": "4de02ff6-2d52-471d-89c3-776a9a216cbc",
   "metadata": {},
   "outputs": [],
   "source": []
  }
 ],
 "metadata": {
  "kernelspec": {
   "display_name": "Python 3 (ipykernel)",
   "language": "python",
   "name": "python3"
  },
  "language_info": {
   "codemirror_mode": {
    "name": "ipython",
    "version": 3
   },
   "file_extension": ".py",
   "mimetype": "text/x-python",
   "name": "python",
   "nbconvert_exporter": "python",
   "pygments_lexer": "ipython3",
   "version": "3.10.13"
  }
 },
 "nbformat": 4,
 "nbformat_minor": 5
}
